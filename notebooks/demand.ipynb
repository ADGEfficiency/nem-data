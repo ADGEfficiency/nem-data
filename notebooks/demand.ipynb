{
 "cells": [
  {
   "cell_type": "code",
   "execution_count": 1,
   "metadata": {},
   "outputs": [],
   "source": [
    "from pathlib import Path"
   ]
  },
  {
   "cell_type": "code",
   "execution_count": 2,
   "metadata": {},
   "outputs": [],
   "source": [
    "nem = Path(Path.home(), 'nem-data', 'demand')"
   ]
  },
  {
   "cell_type": "code",
   "execution_count": 3,
   "metadata": {},
   "outputs": [
    {
     "data": {
      "text/plain": [
       "<generator object Path.glob at 0x119585750>"
      ]
     },
     "execution_count": 3,
     "metadata": {},
     "output_type": "execute_result"
    }
   ],
   "source": [
    "nem.glob('*DISPATCHREGIONSUM.csv')"
   ]
  },
  {
   "cell_type": "code",
   "execution_count": 4,
   "metadata": {},
   "outputs": [
    {
     "data": {
      "text/plain": [
       "[PosixPath('/Users/adam/nem-data/demand/2013-11/2013-11/DISPATCHREGIONSUM.csv'),\n",
       " PosixPath('/Users/adam/nem-data/demand/2017-10/2017-10/DISPATCHREGIONSUM.csv'),\n",
       " PosixPath('/Users/adam/nem-data/demand/2017-11/2017-11/DISPATCHREGIONSUM.csv'),\n",
       " PosixPath('/Users/adam/nem-data/demand/2013-10/2013-10/DISPATCHREGIONSUM.csv'),\n",
       " PosixPath('/Users/adam/nem-data/demand/2011-8/2011-8/DISPATCHREGIONSUM.csv'),\n",
       " PosixPath('/Users/adam/nem-data/demand/2013-5/2013-5/DISPATCHREGIONSUM.csv'),\n",
       " PosixPath('/Users/adam/nem-data/demand/2016-11/2016-11/DISPATCHREGIONSUM.csv'),\n",
       " PosixPath('/Users/adam/nem-data/demand/2013-2/2013-2/DISPATCHREGIONSUM.csv'),\n",
       " PosixPath('/Users/adam/nem-data/demand/2019-5/2019-5/DISPATCHREGIONSUM.csv'),\n",
       " PosixPath('/Users/adam/nem-data/demand/2011-6/2011-6/DISPATCHREGIONSUM.csv'),\n",
       " PosixPath('/Users/adam/nem-data/demand/2012-10/2012-10/DISPATCHREGIONSUM.csv'),\n",
       " PosixPath('/Users/adam/nem-data/demand/2019-2/2019-2/DISPATCHREGIONSUM.csv'),\n",
       " PosixPath('/Users/adam/nem-data/demand/2011-1/2011-1/DISPATCHREGIONSUM.csv'),\n",
       " PosixPath('/Users/adam/nem-data/demand/2017-3/2017-3/DISPATCHREGIONSUM.csv'),\n",
       " PosixPath('/Users/adam/nem-data/demand/2017-4/2017-4/DISPATCHREGIONSUM.csv'),\n",
       " PosixPath('/Users/adam/nem-data/demand/2015-9/2015-9/DISPATCHREGIONSUM.csv'),\n",
       " PosixPath('/Users/adam/nem-data/demand/2015-7/2015-7/DISPATCHREGIONSUM.csv'),\n",
       " PosixPath('/Users/adam/nem-data/demand/2019-3/2019-3/DISPATCHREGIONSUM.csv'),\n",
       " PosixPath('/Users/adam/nem-data/demand/2012-11/2012-11/DISPATCHREGIONSUM.csv'),\n",
       " PosixPath('/Users/adam/nem-data/demand/2019-4/2019-4/DISPATCHREGIONSUM.csv'),\n",
       " PosixPath('/Users/adam/nem-data/demand/2011-7/2011-7/DISPATCHREGIONSUM.csv'),\n",
       " PosixPath('/Users/adam/nem-data/demand/2016-10/2016-10/DISPATCHREGIONSUM.csv'),\n",
       " PosixPath('/Users/adam/nem-data/demand/2013-3/2013-3/DISPATCHREGIONSUM.csv'),\n",
       " PosixPath('/Users/adam/nem-data/demand/2011-9/2011-9/DISPATCHREGIONSUM.csv'),\n",
       " PosixPath('/Users/adam/nem-data/demand/2013-4/2013-4/DISPATCHREGIONSUM.csv'),\n",
       " PosixPath('/Users/adam/nem-data/demand/2015-6/2015-6/DISPATCHREGIONSUM.csv'),\n",
       " PosixPath('/Users/adam/nem-data/demand/2015-1/2015-1/DISPATCHREGIONSUM.csv'),\n",
       " PosixPath('/Users/adam/nem-data/demand/2017-5/2017-5/DISPATCHREGIONSUM.csv'),\n",
       " PosixPath('/Users/adam/nem-data/demand/2015-8/2015-8/DISPATCHREGIONSUM.csv'),\n",
       " PosixPath('/Users/adam/nem-data/demand/2017-2/2017-2/DISPATCHREGIONSUM.csv'),\n",
       " PosixPath('/Users/adam/nem-data/demand/2015-12/2015-12/DISPATCHREGIONSUM.csv'),\n",
       " PosixPath('/Users/adam/nem-data/demand/2009-11/2009-11/DISPATCHREGIONSUM.csv'),\n",
       " PosixPath('/Users/adam/nem-data/demand/2011-12/2011-12/DISPATCHREGIONSUM.csv'),\n",
       " PosixPath('/Users/adam/nem-data/demand/2009-10/2009-10/DISPATCHREGIONSUM.csv'),\n",
       " PosixPath('/Users/adam/nem-data/demand/2014-3/2014-3/DISPATCHREGIONSUM.csv'),\n",
       " PosixPath('/Users/adam/nem-data/demand/2016-9/2016-9/DISPATCHREGIONSUM.csv'),\n",
       " PosixPath('/Users/adam/nem-data/demand/2018-10/2018-10/DISPATCHREGIONSUM.csv'),\n",
       " PosixPath('/Users/adam/nem-data/demand/2014-4/2014-4/DISPATCHREGIONSUM.csv'),\n",
       " PosixPath('/Users/adam/nem-data/demand/2016-7/2016-7/DISPATCHREGIONSUM.csv'),\n",
       " PosixPath('/Users/adam/nem-data/demand/2010-5/2010-5/DISPATCHREGIONSUM.csv'),\n",
       " PosixPath('/Users/adam/nem-data/demand/2012-8/2012-8/DISPATCHREGIONSUM.csv'),\n",
       " PosixPath('/Users/adam/nem-data/demand/2018-6/2018-6/DISPATCHREGIONSUM.csv'),\n",
       " PosixPath('/Users/adam/nem-data/demand/2010-2/2010-2/DISPATCHREGIONSUM.csv'),\n",
       " PosixPath('/Users/adam/nem-data/demand/2010-12/2010-12/DISPATCHREGIONSUM.csv'),\n",
       " PosixPath('/Users/adam/nem-data/demand/2018-1/2018-1/DISPATCHREGIONSUM.csv'),\n",
       " PosixPath('/Users/adam/nem-data/demand/2012-6/2012-6/DISPATCHREGIONSUM.csv'),\n",
       " PosixPath('/Users/adam/nem-data/demand/2018-8/2018-8/DISPATCHREGIONSUM.csv'),\n",
       " PosixPath('/Users/adam/nem-data/demand/2012-1/2012-1/DISPATCHREGIONSUM.csv'),\n",
       " PosixPath('/Users/adam/nem-data/demand/2016-6/2016-6/DISPATCHREGIONSUM.csv'),\n",
       " PosixPath('/Users/adam/nem-data/demand/2016-1/2016-1/DISPATCHREGIONSUM.csv'),\n",
       " PosixPath('/Users/adam/nem-data/demand/2016-8/2016-8/DISPATCHREGIONSUM.csv'),\n",
       " PosixPath('/Users/adam/nem-data/demand/2014-5/2014-5/DISPATCHREGIONSUM.csv'),\n",
       " PosixPath('/Users/adam/nem-data/demand/2018-11/2018-11/DISPATCHREGIONSUM.csv'),\n",
       " PosixPath('/Users/adam/nem-data/demand/2014-2/2014-2/DISPATCHREGIONSUM.csv'),\n",
       " PosixPath('/Users/adam/nem-data/demand/2014-12/2014-12/DISPATCHREGIONSUM.csv'),\n",
       " PosixPath('/Users/adam/nem-data/demand/2018-9/2018-9/DISPATCHREGIONSUM.csv'),\n",
       " PosixPath('/Users/adam/nem-data/demand/2012-7/2012-7/DISPATCHREGIONSUM.csv'),\n",
       " PosixPath('/Users/adam/nem-data/demand/2010-3/2010-3/DISPATCHREGIONSUM.csv'),\n",
       " PosixPath('/Users/adam/nem-data/demand/2010-4/2010-4/DISPATCHREGIONSUM.csv'),\n",
       " PosixPath('/Users/adam/nem-data/demand/2018-7/2018-7/DISPATCHREGIONSUM.csv'),\n",
       " PosixPath('/Users/adam/nem-data/demand/2012-9/2012-9/DISPATCHREGIONSUM.csv'),\n",
       " PosixPath('/Users/adam/nem-data/demand/2009-7/2009-7/DISPATCHREGIONSUM.csv'),\n",
       " PosixPath('/Users/adam/nem-data/demand/2013-12/2013-12/DISPATCHREGIONSUM.csv'),\n",
       " PosixPath('/Users/adam/nem-data/demand/2009-9/2009-9/DISPATCHREGIONSUM.csv'),\n",
       " PosixPath('/Users/adam/nem-data/demand/2017-12/2017-12/DISPATCHREGIONSUM.csv'),\n",
       " PosixPath('/Users/adam/nem-data/demand/2009-8/2009-8/DISPATCHREGIONSUM.csv'),\n",
       " PosixPath('/Users/adam/nem-data/demand/2017-7/2017-7/DISPATCHREGIONSUM.csv'),\n",
       " PosixPath('/Users/adam/nem-data/demand/2015-4/2015-4/DISPATCHREGIONSUM.csv'),\n",
       " PosixPath('/Users/adam/nem-data/demand/2017-9/2017-9/DISPATCHREGIONSUM.csv'),\n",
       " PosixPath('/Users/adam/nem-data/demand/2015-3/2015-3/DISPATCHREGIONSUM.csv'),\n",
       " PosixPath('/Users/adam/nem-data/demand/2016-12/2016-12/DISPATCHREGIONSUM.csv'),\n",
       " PosixPath('/Users/adam/nem-data/demand/2013-1/2013-1/DISPATCHREGIONSUM.csv'),\n",
       " PosixPath('/Users/adam/nem-data/demand/2013-6/2013-6/DISPATCHREGIONSUM.csv'),\n",
       " PosixPath('/Users/adam/nem-data/demand/2019-8/2019-8/DISPATCHREGIONSUM.csv'),\n",
       " PosixPath('/Users/adam/nem-data/demand/2019-1/2019-1/DISPATCHREGIONSUM.csv'),\n",
       " PosixPath('/Users/adam/nem-data/demand/2011-2/2011-2/DISPATCHREGIONSUM.csv'),\n",
       " PosixPath('/Users/adam/nem-data/demand/2013-8/2013-8/DISPATCHREGIONSUM.csv'),\n",
       " PosixPath('/Users/adam/nem-data/demand/2019-6/2019-6/DISPATCHREGIONSUM.csv'),\n",
       " PosixPath('/Users/adam/nem-data/demand/2011-5/2011-5/DISPATCHREGIONSUM.csv'),\n",
       " PosixPath('/Users/adam/nem-data/demand/2015-2/2015-2/DISPATCHREGIONSUM.csv'),\n",
       " PosixPath('/Users/adam/nem-data/demand/2015-5/2015-5/DISPATCHREGIONSUM.csv'),\n",
       " PosixPath('/Users/adam/nem-data/demand/2017-8/2017-8/DISPATCHREGIONSUM.csv'),\n",
       " PosixPath('/Users/adam/nem-data/demand/2017-1/2017-1/DISPATCHREGIONSUM.csv'),\n",
       " PosixPath('/Users/adam/nem-data/demand/2017-6/2017-6/DISPATCHREGIONSUM.csv'),\n",
       " PosixPath('/Users/adam/nem-data/demand/2019-7/2019-7/DISPATCHREGIONSUM.csv'),\n",
       " PosixPath('/Users/adam/nem-data/demand/2013-9/2013-9/DISPATCHREGIONSUM.csv'),\n",
       " PosixPath('/Users/adam/nem-data/demand/2011-4/2011-4/DISPATCHREGIONSUM.csv'),\n",
       " PosixPath('/Users/adam/nem-data/demand/2012-12/2012-12/DISPATCHREGIONSUM.csv'),\n",
       " PosixPath('/Users/adam/nem-data/demand/2011-3/2011-3/DISPATCHREGIONSUM.csv'),\n",
       " PosixPath('/Users/adam/nem-data/demand/2013-7/2013-7/DISPATCHREGIONSUM.csv'),\n",
       " PosixPath('/Users/adam/nem-data/demand/2009-12/2009-12/DISPATCHREGIONSUM.csv'),\n",
       " PosixPath('/Users/adam/nem-data/demand/2015-11/2015-11/DISPATCHREGIONSUM.csv'),\n",
       " PosixPath('/Users/adam/nem-data/demand/2011-10/2011-10/DISPATCHREGIONSUM.csv'),\n",
       " PosixPath('/Users/adam/nem-data/demand/2011-11/2011-11/DISPATCHREGIONSUM.csv'),\n",
       " PosixPath('/Users/adam/nem-data/demand/2015-10/2015-10/DISPATCHREGIONSUM.csv'),\n",
       " PosixPath('/Users/adam/nem-data/demand/2010-1/2010-1/DISPATCHREGIONSUM.csv'),\n",
       " PosixPath('/Users/adam/nem-data/demand/2010-11/2010-11/DISPATCHREGIONSUM.csv'),\n",
       " PosixPath('/Users/adam/nem-data/demand/2018-2/2018-2/DISPATCHREGIONSUM.csv'),\n",
       " PosixPath('/Users/adam/nem-data/demand/2010-6/2010-6/DISPATCHREGIONSUM.csv'),\n",
       " PosixPath('/Users/adam/nem-data/demand/2018-5/2018-5/DISPATCHREGIONSUM.csv'),\n",
       " PosixPath('/Users/adam/nem-data/demand/2012-2/2012-2/DISPATCHREGIONSUM.csv'),\n",
       " PosixPath('/Users/adam/nem-data/demand/2014-10/2014-10/DISPATCHREGIONSUM.csv'),\n",
       " PosixPath('/Users/adam/nem-data/demand/2012-5/2012-5/DISPATCHREGIONSUM.csv'),\n",
       " PosixPath('/Users/adam/nem-data/demand/2010-8/2010-8/DISPATCHREGIONSUM.csv'),\n",
       " PosixPath('/Users/adam/nem-data/demand/2014-7/2014-7/DISPATCHREGIONSUM.csv'),\n",
       " PosixPath('/Users/adam/nem-data/demand/2014-9/2014-9/DISPATCHREGIONSUM.csv'),\n",
       " PosixPath('/Users/adam/nem-data/demand/2016-4/2016-4/DISPATCHREGIONSUM.csv'),\n",
       " PosixPath('/Users/adam/nem-data/demand/2016-3/2016-3/DISPATCHREGIONSUM.csv'),\n",
       " PosixPath('/Users/adam/nem-data/demand/2012-4/2012-4/DISPATCHREGIONSUM.csv'),\n",
       " PosixPath('/Users/adam/nem-data/demand/2010-9/2010-9/DISPATCHREGIONSUM.csv'),\n",
       " PosixPath('/Users/adam/nem-data/demand/2012-3/2012-3/DISPATCHREGIONSUM.csv'),\n",
       " PosixPath('/Users/adam/nem-data/demand/2014-11/2014-11/DISPATCHREGIONSUM.csv'),\n",
       " PosixPath('/Users/adam/nem-data/demand/2010-7/2010-7/DISPATCHREGIONSUM.csv'),\n",
       " PosixPath('/Users/adam/nem-data/demand/2018-4/2018-4/DISPATCHREGIONSUM.csv'),\n",
       " PosixPath('/Users/adam/nem-data/demand/2018-3/2018-3/DISPATCHREGIONSUM.csv'),\n",
       " PosixPath('/Users/adam/nem-data/demand/2010-10/2010-10/DISPATCHREGIONSUM.csv'),\n",
       " PosixPath('/Users/adam/nem-data/demand/2016-2/2016-2/DISPATCHREGIONSUM.csv'),\n",
       " PosixPath('/Users/adam/nem-data/demand/2014-8/2014-8/DISPATCHREGIONSUM.csv'),\n",
       " PosixPath('/Users/adam/nem-data/demand/2016-5/2016-5/DISPATCHREGIONSUM.csv'),\n",
       " PosixPath('/Users/adam/nem-data/demand/2014-1/2014-1/DISPATCHREGIONSUM.csv'),\n",
       " PosixPath('/Users/adam/nem-data/demand/2014-6/2014-6/DISPATCHREGIONSUM.csv'),\n",
       " PosixPath('/Users/adam/nem-data/demand/2018-12/2018-12/DISPATCHREGIONSUM.csv')]"
      ]
     },
     "execution_count": 4,
     "metadata": {},
     "output_type": "execute_result"
    }
   ],
   "source": [
    "paths = [p for p in nem.glob('**/*DISPATCHREGIONSUM.csv')]\n",
    "paths"
   ]
  },
  {
   "cell_type": "code",
   "execution_count": 5,
   "metadata": {},
   "outputs": [
    {
     "name": "stdout",
     "output_type": "stream",
     "text": [
      "/Users/adam/nem-data/demand/2013-11/2013-11/DISPATCHREGIONSUM.csv\n",
      "/Users/adam/nem-data/demand/2017-10/2017-10/DISPATCHREGIONSUM.csv\n",
      "/Users/adam/nem-data/demand/2017-11/2017-11/DISPATCHREGIONSUM.csv\n",
      "/Users/adam/nem-data/demand/2013-10/2013-10/DISPATCHREGIONSUM.csv\n",
      "/Users/adam/nem-data/demand/2011-8/2011-8/DISPATCHREGIONSUM.csv\n",
      "/Users/adam/nem-data/demand/2013-5/2013-5/DISPATCHREGIONSUM.csv\n",
      "/Users/adam/nem-data/demand/2016-11/2016-11/DISPATCHREGIONSUM.csv\n",
      "/Users/adam/nem-data/demand/2013-2/2013-2/DISPATCHREGIONSUM.csv\n",
      "/Users/adam/nem-data/demand/2019-5/2019-5/DISPATCHREGIONSUM.csv\n",
      "/Users/adam/nem-data/demand/2011-6/2011-6/DISPATCHREGIONSUM.csv\n",
      "/Users/adam/nem-data/demand/2012-10/2012-10/DISPATCHREGIONSUM.csv\n",
      "/Users/adam/nem-data/demand/2019-2/2019-2/DISPATCHREGIONSUM.csv\n",
      "/Users/adam/nem-data/demand/2011-1/2011-1/DISPATCHREGIONSUM.csv\n",
      "/Users/adam/nem-data/demand/2017-3/2017-3/DISPATCHREGIONSUM.csv\n",
      "/Users/adam/nem-data/demand/2017-4/2017-4/DISPATCHREGIONSUM.csv\n",
      "/Users/adam/nem-data/demand/2015-9/2015-9/DISPATCHREGIONSUM.csv\n",
      "/Users/adam/nem-data/demand/2015-7/2015-7/DISPATCHREGIONSUM.csv\n",
      "/Users/adam/nem-data/demand/2019-3/2019-3/DISPATCHREGIONSUM.csv\n",
      "/Users/adam/nem-data/demand/2012-11/2012-11/DISPATCHREGIONSUM.csv\n",
      "/Users/adam/nem-data/demand/2019-4/2019-4/DISPATCHREGIONSUM.csv\n",
      "/Users/adam/nem-data/demand/2011-7/2011-7/DISPATCHREGIONSUM.csv\n",
      "/Users/adam/nem-data/demand/2016-10/2016-10/DISPATCHREGIONSUM.csv\n",
      "/Users/adam/nem-data/demand/2013-3/2013-3/DISPATCHREGIONSUM.csv\n",
      "/Users/adam/nem-data/demand/2011-9/2011-9/DISPATCHREGIONSUM.csv\n",
      "/Users/adam/nem-data/demand/2013-4/2013-4/DISPATCHREGIONSUM.csv\n",
      "/Users/adam/nem-data/demand/2015-6/2015-6/DISPATCHREGIONSUM.csv\n",
      "/Users/adam/nem-data/demand/2015-1/2015-1/DISPATCHREGIONSUM.csv\n",
      "/Users/adam/nem-data/demand/2017-5/2017-5/DISPATCHREGIONSUM.csv\n",
      "/Users/adam/nem-data/demand/2015-8/2015-8/DISPATCHREGIONSUM.csv\n",
      "/Users/adam/nem-data/demand/2017-2/2017-2/DISPATCHREGIONSUM.csv\n",
      "/Users/adam/nem-data/demand/2015-12/2015-12/DISPATCHREGIONSUM.csv\n",
      "/Users/adam/nem-data/demand/2009-11/2009-11/DISPATCHREGIONSUM.csv\n",
      "/Users/adam/nem-data/demand/2011-12/2011-12/DISPATCHREGIONSUM.csv\n",
      "/Users/adam/nem-data/demand/2009-10/2009-10/DISPATCHREGIONSUM.csv\n",
      "/Users/adam/nem-data/demand/2014-3/2014-3/DISPATCHREGIONSUM.csv\n",
      "/Users/adam/nem-data/demand/2016-9/2016-9/DISPATCHREGIONSUM.csv\n",
      "/Users/adam/nem-data/demand/2018-10/2018-10/DISPATCHREGIONSUM.csv\n",
      "/Users/adam/nem-data/demand/2014-4/2014-4/DISPATCHREGIONSUM.csv\n",
      "/Users/adam/nem-data/demand/2016-7/2016-7/DISPATCHREGIONSUM.csv\n",
      "/Users/adam/nem-data/demand/2010-5/2010-5/DISPATCHREGIONSUM.csv\n",
      "/Users/adam/nem-data/demand/2012-8/2012-8/DISPATCHREGIONSUM.csv\n",
      "/Users/adam/nem-data/demand/2018-6/2018-6/DISPATCHREGIONSUM.csv\n",
      "/Users/adam/nem-data/demand/2010-2/2010-2/DISPATCHREGIONSUM.csv\n",
      "/Users/adam/nem-data/demand/2010-12/2010-12/DISPATCHREGIONSUM.csv\n",
      "/Users/adam/nem-data/demand/2018-1/2018-1/DISPATCHREGIONSUM.csv\n",
      "/Users/adam/nem-data/demand/2012-6/2012-6/DISPATCHREGIONSUM.csv\n",
      "/Users/adam/nem-data/demand/2018-8/2018-8/DISPATCHREGIONSUM.csv\n",
      "/Users/adam/nem-data/demand/2012-1/2012-1/DISPATCHREGIONSUM.csv\n",
      "/Users/adam/nem-data/demand/2016-6/2016-6/DISPATCHREGIONSUM.csv\n",
      "/Users/adam/nem-data/demand/2016-1/2016-1/DISPATCHREGIONSUM.csv\n",
      "/Users/adam/nem-data/demand/2016-8/2016-8/DISPATCHREGIONSUM.csv\n",
      "/Users/adam/nem-data/demand/2014-5/2014-5/DISPATCHREGIONSUM.csv\n",
      "/Users/adam/nem-data/demand/2018-11/2018-11/DISPATCHREGIONSUM.csv\n",
      "/Users/adam/nem-data/demand/2014-2/2014-2/DISPATCHREGIONSUM.csv\n",
      "/Users/adam/nem-data/demand/2014-12/2014-12/DISPATCHREGIONSUM.csv\n",
      "/Users/adam/nem-data/demand/2018-9/2018-9/DISPATCHREGIONSUM.csv\n",
      "/Users/adam/nem-data/demand/2012-7/2012-7/DISPATCHREGIONSUM.csv\n",
      "/Users/adam/nem-data/demand/2010-3/2010-3/DISPATCHREGIONSUM.csv\n",
      "/Users/adam/nem-data/demand/2010-4/2010-4/DISPATCHREGIONSUM.csv\n",
      "/Users/adam/nem-data/demand/2018-7/2018-7/DISPATCHREGIONSUM.csv\n",
      "/Users/adam/nem-data/demand/2012-9/2012-9/DISPATCHREGIONSUM.csv\n",
      "/Users/adam/nem-data/demand/2009-7/2009-7/DISPATCHREGIONSUM.csv\n",
      "/Users/adam/nem-data/demand/2013-12/2013-12/DISPATCHREGIONSUM.csv\n",
      "/Users/adam/nem-data/demand/2009-9/2009-9/DISPATCHREGIONSUM.csv\n",
      "/Users/adam/nem-data/demand/2017-12/2017-12/DISPATCHREGIONSUM.csv\n",
      "/Users/adam/nem-data/demand/2009-8/2009-8/DISPATCHREGIONSUM.csv\n",
      "/Users/adam/nem-data/demand/2017-7/2017-7/DISPATCHREGIONSUM.csv\n",
      "/Users/adam/nem-data/demand/2015-4/2015-4/DISPATCHREGIONSUM.csv\n",
      "/Users/adam/nem-data/demand/2017-9/2017-9/DISPATCHREGIONSUM.csv\n",
      "/Users/adam/nem-data/demand/2015-3/2015-3/DISPATCHREGIONSUM.csv\n",
      "/Users/adam/nem-data/demand/2016-12/2016-12/DISPATCHREGIONSUM.csv\n",
      "/Users/adam/nem-data/demand/2013-1/2013-1/DISPATCHREGIONSUM.csv\n",
      "/Users/adam/nem-data/demand/2013-6/2013-6/DISPATCHREGIONSUM.csv\n",
      "/Users/adam/nem-data/demand/2019-8/2019-8/DISPATCHREGIONSUM.csv\n",
      "/Users/adam/nem-data/demand/2019-1/2019-1/DISPATCHREGIONSUM.csv\n",
      "/Users/adam/nem-data/demand/2011-2/2011-2/DISPATCHREGIONSUM.csv\n",
      "/Users/adam/nem-data/demand/2013-8/2013-8/DISPATCHREGIONSUM.csv\n",
      "/Users/adam/nem-data/demand/2019-6/2019-6/DISPATCHREGIONSUM.csv\n",
      "/Users/adam/nem-data/demand/2011-5/2011-5/DISPATCHREGIONSUM.csv\n",
      "/Users/adam/nem-data/demand/2015-2/2015-2/DISPATCHREGIONSUM.csv\n",
      "/Users/adam/nem-data/demand/2015-5/2015-5/DISPATCHREGIONSUM.csv\n",
      "/Users/adam/nem-data/demand/2017-8/2017-8/DISPATCHREGIONSUM.csv\n",
      "/Users/adam/nem-data/demand/2017-1/2017-1/DISPATCHREGIONSUM.csv\n",
      "/Users/adam/nem-data/demand/2017-6/2017-6/DISPATCHREGIONSUM.csv\n",
      "/Users/adam/nem-data/demand/2019-7/2019-7/DISPATCHREGIONSUM.csv\n",
      "/Users/adam/nem-data/demand/2013-9/2013-9/DISPATCHREGIONSUM.csv\n",
      "/Users/adam/nem-data/demand/2011-4/2011-4/DISPATCHREGIONSUM.csv\n",
      "/Users/adam/nem-data/demand/2012-12/2012-12/DISPATCHREGIONSUM.csv\n",
      "/Users/adam/nem-data/demand/2011-3/2011-3/DISPATCHREGIONSUM.csv\n",
      "/Users/adam/nem-data/demand/2013-7/2013-7/DISPATCHREGIONSUM.csv\n",
      "/Users/adam/nem-data/demand/2009-12/2009-12/DISPATCHREGIONSUM.csv\n",
      "/Users/adam/nem-data/demand/2015-11/2015-11/DISPATCHREGIONSUM.csv\n",
      "/Users/adam/nem-data/demand/2011-10/2011-10/DISPATCHREGIONSUM.csv\n",
      "/Users/adam/nem-data/demand/2011-11/2011-11/DISPATCHREGIONSUM.csv\n",
      "/Users/adam/nem-data/demand/2015-10/2015-10/DISPATCHREGIONSUM.csv\n",
      "/Users/adam/nem-data/demand/2010-1/2010-1/DISPATCHREGIONSUM.csv\n",
      "/Users/adam/nem-data/demand/2010-11/2010-11/DISPATCHREGIONSUM.csv\n",
      "/Users/adam/nem-data/demand/2018-2/2018-2/DISPATCHREGIONSUM.csv\n",
      "/Users/adam/nem-data/demand/2010-6/2010-6/DISPATCHREGIONSUM.csv\n",
      "/Users/adam/nem-data/demand/2018-5/2018-5/DISPATCHREGIONSUM.csv\n",
      "/Users/adam/nem-data/demand/2012-2/2012-2/DISPATCHREGIONSUM.csv\n",
      "/Users/adam/nem-data/demand/2014-10/2014-10/DISPATCHREGIONSUM.csv\n",
      "/Users/adam/nem-data/demand/2012-5/2012-5/DISPATCHREGIONSUM.csv\n",
      "/Users/adam/nem-data/demand/2010-8/2010-8/DISPATCHREGIONSUM.csv\n",
      "/Users/adam/nem-data/demand/2014-7/2014-7/DISPATCHREGIONSUM.csv\n",
      "/Users/adam/nem-data/demand/2014-9/2014-9/DISPATCHREGIONSUM.csv\n",
      "/Users/adam/nem-data/demand/2016-4/2016-4/DISPATCHREGIONSUM.csv\n",
      "/Users/adam/nem-data/demand/2016-3/2016-3/DISPATCHREGIONSUM.csv\n",
      "/Users/adam/nem-data/demand/2012-4/2012-4/DISPATCHREGIONSUM.csv\n",
      "/Users/adam/nem-data/demand/2010-9/2010-9/DISPATCHREGIONSUM.csv\n",
      "/Users/adam/nem-data/demand/2012-3/2012-3/DISPATCHREGIONSUM.csv\n",
      "/Users/adam/nem-data/demand/2014-11/2014-11/DISPATCHREGIONSUM.csv\n",
      "/Users/adam/nem-data/demand/2010-7/2010-7/DISPATCHREGIONSUM.csv\n",
      "/Users/adam/nem-data/demand/2018-4/2018-4/DISPATCHREGIONSUM.csv\n",
      "/Users/adam/nem-data/demand/2018-3/2018-3/DISPATCHREGIONSUM.csv\n",
      "/Users/adam/nem-data/demand/2010-10/2010-10/DISPATCHREGIONSUM.csv\n",
      "/Users/adam/nem-data/demand/2016-2/2016-2/DISPATCHREGIONSUM.csv\n",
      "/Users/adam/nem-data/demand/2014-8/2014-8/DISPATCHREGIONSUM.csv\n",
      "/Users/adam/nem-data/demand/2016-5/2016-5/DISPATCHREGIONSUM.csv\n",
      "/Users/adam/nem-data/demand/2014-1/2014-1/DISPATCHREGIONSUM.csv\n",
      "/Users/adam/nem-data/demand/2014-6/2014-6/DISPATCHREGIONSUM.csv\n",
      "/Users/adam/nem-data/demand/2018-12/2018-12/DISPATCHREGIONSUM.csv\n"
     ]
    }
   ],
   "source": [
    "def process_demand(csv_path):\n",
    "    print(csv_path)\n",
    "    d = pd.read_csv(csv_path, index_col=0)\n",
    "    columns = ['SETTLEMENTDATE', 'TOTALDEMAND', 'AVAILABLEGENERATION', 'INTERVENTION']\n",
    "\n",
    "    d = d.loc[d['REGIONID'] == 'SA1', columns]\n",
    "    d.loc[:, 'SETTLEMENTDATE'] = pd.to_datetime(d.loc[:, 'SETTLEMENTDATE'])\n",
    "    d.loc[:, 'start-of-interval'] = d.loc[:, 'SETTLEMENTDATE'] - pd.Timedelta('5min')\n",
    "    return d\n",
    "\n",
    "demands = [process_demand(p) for p in paths]"
   ]
  },
  {
   "cell_type": "code",
   "execution_count": 6,
   "metadata": {},
   "outputs": [],
   "source": [
    "data = pd.concat(demands, axis=0)"
   ]
  },
  {
   "cell_type": "code",
   "execution_count": 7,
   "metadata": {},
   "outputs": [],
   "source": [
    "data = data.sort_values('SETTLEMENTDATE', ascending=True)"
   ]
  },
  {
   "cell_type": "code",
   "execution_count": 8,
   "metadata": {},
   "outputs": [],
   "source": [
    "idx = pd.date_range(data.loc[:, 'SETTLEMENTDATE'].iloc[0], data.loc[:, 'SETTLEMENTDATE'].iloc[-1], freq='5min')"
   ]
  },
  {
   "cell_type": "code",
   "execution_count": 9,
   "metadata": {},
   "outputs": [
    {
     "data": {
      "text/plain": [
       "1069632"
      ]
     },
     "execution_count": 9,
     "metadata": {},
     "output_type": "execute_result"
    }
   ],
   "source": [
    "len(idx)"
   ]
  },
  {
   "cell_type": "code",
   "execution_count": 10,
   "metadata": {},
   "outputs": [
    {
     "data": {
      "text/plain": [
       "1112680"
      ]
     },
     "execution_count": 10,
     "metadata": {},
     "output_type": "execute_result"
    }
   ],
   "source": [
    "len(data)"
   ]
  },
  {
   "cell_type": "code",
   "execution_count": 11,
   "metadata": {},
   "outputs": [
    {
     "data": {
      "text/plain": [
       "43048"
      ]
     },
     "execution_count": 11,
     "metadata": {},
     "output_type": "execute_result"
    }
   ],
   "source": [
    "sum(data.duplicated('SETTLEMENTDATE', keep='last'))"
   ]
  },
  {
   "cell_type": "code",
   "execution_count": 12,
   "metadata": {},
   "outputs": [
    {
     "data": {
      "text/plain": [
       "43048"
      ]
     },
     "execution_count": 12,
     "metadata": {},
     "output_type": "execute_result"
    }
   ],
   "source": [
    "len(data) - len(idx)"
   ]
  },
  {
   "cell_type": "code",
   "execution_count": 13,
   "metadata": {},
   "outputs": [],
   "source": [
    "clean = data.loc[~data.duplicated(['SETTLEMENTDATE', 'INTERVENTION'], keep='last'), :]"
   ]
  },
  {
   "cell_type": "code",
   "execution_count": 14,
   "metadata": {},
   "outputs": [
    {
     "data": {
      "text/plain": [
       "41032"
      ]
     },
     "execution_count": 14,
     "metadata": {},
     "output_type": "execute_result"
    }
   ],
   "source": [
    "len(clean) - len(idx)"
   ]
  },
  {
   "cell_type": "code",
   "execution_count": 15,
   "metadata": {},
   "outputs": [
    {
     "data": {
      "text/html": [
       "<div>\n",
       "<style scoped>\n",
       "    .dataframe tbody tr th:only-of-type {\n",
       "        vertical-align: middle;\n",
       "    }\n",
       "\n",
       "    .dataframe tbody tr th {\n",
       "        vertical-align: top;\n",
       "    }\n",
       "\n",
       "    .dataframe thead th {\n",
       "        text-align: right;\n",
       "    }\n",
       "</style>\n",
       "<table border=\"1\" class=\"dataframe\">\n",
       "  <thead>\n",
       "    <tr style=\"text-align: right;\">\n",
       "      <th></th>\n",
       "      <th>SETTLEMENTDATE</th>\n",
       "      <th>TOTALDEMAND</th>\n",
       "      <th>AVAILABLEGENERATION</th>\n",
       "      <th>INTERVENTION</th>\n",
       "      <th>start-of-interval</th>\n",
       "    </tr>\n",
       "    <tr>\n",
       "      <th>I</th>\n",
       "      <th></th>\n",
       "      <th></th>\n",
       "      <th></th>\n",
       "      <th></th>\n",
       "      <th></th>\n",
       "    </tr>\n",
       "  </thead>\n",
       "  <tbody>\n",
       "    <tr>\n",
       "      <th>D</th>\n",
       "      <td>2009-07-01 00:05:00</td>\n",
       "      <td>1591.33</td>\n",
       "      <td>2985.610</td>\n",
       "      <td>0.0</td>\n",
       "      <td>2009-07-01 00:00:00</td>\n",
       "    </tr>\n",
       "    <tr>\n",
       "      <th>D</th>\n",
       "      <td>2009-07-01 00:10:00</td>\n",
       "      <td>1589.66</td>\n",
       "      <td>3004.164</td>\n",
       "      <td>0.0</td>\n",
       "      <td>2009-07-01 00:05:00</td>\n",
       "    </tr>\n",
       "    <tr>\n",
       "      <th>D</th>\n",
       "      <td>2009-07-01 00:15:00</td>\n",
       "      <td>1609.87</td>\n",
       "      <td>3012.470</td>\n",
       "      <td>0.0</td>\n",
       "      <td>2009-07-01 00:10:00</td>\n",
       "    </tr>\n",
       "    <tr>\n",
       "      <th>D</th>\n",
       "      <td>2009-07-01 00:20:00</td>\n",
       "      <td>1594.49</td>\n",
       "      <td>3003.234</td>\n",
       "      <td>0.0</td>\n",
       "      <td>2009-07-01 00:15:00</td>\n",
       "    </tr>\n",
       "    <tr>\n",
       "      <th>D</th>\n",
       "      <td>2009-07-01 00:25:00</td>\n",
       "      <td>1582.01</td>\n",
       "      <td>2987.409</td>\n",
       "      <td>0.0</td>\n",
       "      <td>2009-07-01 00:20:00</td>\n",
       "    </tr>\n",
       "  </tbody>\n",
       "</table>\n",
       "</div>"
      ],
      "text/plain": [
       "       SETTLEMENTDATE  TOTALDEMAND  AVAILABLEGENERATION  INTERVENTION  \\\n",
       "I                                                                       \n",
       "D 2009-07-01 00:05:00      1591.33             2985.610           0.0   \n",
       "D 2009-07-01 00:10:00      1589.66             3004.164           0.0   \n",
       "D 2009-07-01 00:15:00      1609.87             3012.470           0.0   \n",
       "D 2009-07-01 00:20:00      1594.49             3003.234           0.0   \n",
       "D 2009-07-01 00:25:00      1582.01             2987.409           0.0   \n",
       "\n",
       "    start-of-interval  \n",
       "I                      \n",
       "D 2009-07-01 00:00:00  \n",
       "D 2009-07-01 00:05:00  \n",
       "D 2009-07-01 00:10:00  \n",
       "D 2009-07-01 00:15:00  \n",
       "D 2009-07-01 00:20:00  "
      ]
     },
     "execution_count": 15,
     "metadata": {},
     "output_type": "execute_result"
    }
   ],
   "source": [
    "clean.head()"
   ]
  },
  {
   "cell_type": "code",
   "execution_count": 16,
   "metadata": {},
   "outputs": [],
   "source": [
    "clean.to_csv('demand.csv')"
   ]
  }
 ],
 "metadata": {
  "kernelspec": {
   "display_name": "Python 3",
   "language": "python",
   "name": "python3"
  },
  "language_info": {
   "codemirror_mode": {
    "name": "ipython",
    "version": 3
   },
   "file_extension": ".py",
   "mimetype": "text/x-python",
   "name": "python",
   "nbconvert_exporter": "python",
   "pygments_lexer": "ipython3",
   "version": "3.7.2"
  }
 },
 "nbformat": 4,
 "nbformat_minor": 2
}
