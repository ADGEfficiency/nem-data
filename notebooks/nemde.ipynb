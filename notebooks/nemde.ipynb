{
 "cells": [
  {
   "cell_type": "markdown",
   "metadata": {},
   "source": [
    "https://www.aemo.com.au/-/media/Files/Electricity/NEM/IT-Systems-and-Change/NEMDE-queue/NEMDE_Queue_Users_Guide.pdf\n",
    "\n",
    "https://www.accc.gov.au/system/files/Appendix%206%20-%20HoustonKemp%20-%20Investigating%20wholesale%20market%20outcomes%20-%20Met....pdf"
   ]
  },
  {
   "cell_type": "code",
   "execution_count": 1,
   "metadata": {},
   "outputs": [],
   "source": [
    "import xml.etree.ElementTree as ET\n",
    "import os\n",
    "import pandas as pd\n",
    "\n",
    "def load_xml(path):\n",
    "    tree = ET.parse(path)\n",
    "    root = tree.getroot()\n",
    "    data = [c.attrib for c in root]\n",
    "    df = pd.DataFrame(data)\n",
    "    return df.query('Market == \"Energy\" and RegionID == \"SA1\" and DispatchedMarket == \"ENOF\"')"
   ]
  },
  {
   "cell_type": "code",
   "execution_count": null,
   "metadata": {},
   "outputs": [
    {
     "name": "stdout",
     "output_type": "stream",
     "text": [
      "found 568226\n",
      "0.00 pct\n",
      "0.88 pct\n",
      "1.76 pct\n"
     ]
    }
   ],
   "source": [
    "from pathlib import Path\n",
    "import nemdata\n",
    "\n",
    "p = Path(nemdata.home).glob('**/NEMPriceSetter_*.xml')\n",
    "\n",
    "fi = sorted([f for f in p])\n",
    "print('found {}'.format(len(fi)))\n",
    "\n",
    "data = []\n",
    "for count, d in enumerate(fi):\n",
    "    data.append(load_xml(d))\n",
    "    \n",
    "    if count % 5000 == 0:\n",
    "        print('{:2.2f} pct'.format(100 * count / len(fi)))\n",
    "        \n",
    "data = pd.concat(data)\n",
    "\n",
    "data.index = pd.to_datetime(data.loc[:, 'PeriodID'])\n",
    "data.sort_index(inplace=True)"
   ]
  },
  {
   "cell_type": "code",
   "execution_count": null,
   "metadata": {},
   "outputs": [],
   "source": [
    "data = data.sort_index()\n",
    "\n",
    "data = data.astype({'Price': 'float32'})\n",
    "\n",
    "data.head(10)"
   ]
  },
  {
   "cell_type": "code",
   "execution_count": null,
   "metadata": {},
   "outputs": [],
   "source": [
    "data.loc[:, 'Price'].plot()"
   ]
  },
  {
   "cell_type": "code",
   "execution_count": null,
   "metadata": {},
   "outputs": [],
   "source": [
    "gen = pd.read_csv('../generators_and_scheduled_loads.csv')"
   ]
  },
  {
   "cell_type": "code",
   "execution_count": null,
   "metadata": {},
   "outputs": [],
   "source": [
    "f = pd.merge(data, gen, left_on='Unit', right_on='DUID')\n",
    "f.set_index('PeriodID', drop=False, inplace=True)\n",
    "f.columns"
   ]
  },
  {
   "cell_type": "code",
   "execution_count": null,
   "metadata": {},
   "outputs": [],
   "source": [
    "carbon = pd.read_csv('../CO2EII_AVAILABLE_GENERATORS.CSV', skiprows=1)\n",
    "\n",
    "final = pd.merge(f, carbon, left_on='DUID', right_on='DUID')\n",
    "#final.set_index('PeriodID', drop=True, inplace=True)"
   ]
  },
  {
   "cell_type": "code",
   "execution_count": null,
   "metadata": {},
   "outputs": [],
   "source": [
    "final.plot(y='CO2E_EMISSIONS_FACTOR')"
   ]
  },
  {
   "cell_type": "code",
   "execution_count": null,
   "metadata": {},
   "outputs": [],
   "source": [
    "final.shape"
   ]
  },
  {
   "cell_type": "code",
   "execution_count": null,
   "metadata": {},
   "outputs": [],
   "source": [
    "final.to_csv('final.csv', index=False)"
   ]
  },
  {
   "cell_type": "code",
   "execution_count": null,
   "metadata": {},
   "outputs": [],
   "source": []
  }
 ],
 "metadata": {
  "kernelspec": {
   "display_name": "Python 3",
   "language": "python",
   "name": "python3"
  },
  "language_info": {
   "codemirror_mode": {
    "name": "ipython",
    "version": 3
   },
   "file_extension": ".py",
   "mimetype": "text/x-python",
   "name": "python",
   "nbconvert_exporter": "python",
   "pygments_lexer": "ipython3",
   "version": "3.6.8"
  }
 },
 "nbformat": 4,
 "nbformat_minor": 2
}
